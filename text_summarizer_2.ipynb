{
  "nbformat": 4,
  "nbformat_minor": 0,
  "metadata": {
    "colab": {
      "name": "text_summarizer_2.ipynb",
      "provenance": [],
      "collapsed_sections": [],
      "authorship_tag": "ABX9TyMsJyjEwYiwJ7Gaoc3Z9NXw",
      "include_colab_link": true
    },
    "kernelspec": {
      "name": "python3",
      "display_name": "Python 3"
    },
    "language_info": {
      "name": "python"
    },
    "accelerator": "GPU"
  },
  "cells": [
    {
      "cell_type": "markdown",
      "metadata": {
        "id": "view-in-github",
        "colab_type": "text"
      },
      "source": [
        "<a href=\"https://colab.research.google.com/github/himangan/Arduino/blob/master/text_summarizer_2.ipynb\" target=\"_parent\"><img src=\"https://colab.research.google.com/assets/colab-badge.svg\" alt=\"Open In Colab\"/></a>"
      ]
    },
    {
      "cell_type": "code",
      "execution_count": 2,
      "metadata": {
        "colab": {
          "base_uri": "https://localhost:8080/"
        },
        "id": "xzdQyxZxuj3N",
        "outputId": "d1f238a1-2080-4b67-cf37-24193b041754"
      },
      "outputs": [
        {
          "output_type": "stream",
          "name": "stdout",
          "text": [
            "[nltk_data] Downloading package stopwords to /root/nltk_data...\n",
            "[nltk_data]   Unzipping corpora/stopwords.zip.\n"
          ]
        }
      ],
      "source": [
        "import pandas as pd\n",
        "import numpy as np\n",
        "import matplotlib.pyplot as plt\n",
        "import re\n",
        "import tensorflow as tf\n",
        "from bs4 import BeautifulSoup\n",
        "from tensorflow.keras.layers import Bidirectional, LSTM, Input, Embedding, Dense, TimeDistributed, Concatenate, Attention\n",
        "from tensorflow.keras.models import Model, load_model\n",
        "from tensorflow.keras.callbacks import EarlyStopping\n",
        "from tensorflow.keras.preprocessing.text import Tokenizer\n",
        "from tensorflow.keras.preprocessing.sequence import pad_sequences\n",
        "from sklearn.model_selection import train_test_split\n",
        "import warnings\n",
        "warnings.filterwarnings('ignore')\n",
        "import nltk\n",
        "nltk.download('stopwords')\n",
        "from nltk.corpus import stopwords"
      ]
    },
    {
      "cell_type": "code",
      "source": [
        "data=pd.read_csv(\"Reviews.csv\",error_bad_lines=False, engine=\"python\")\n",
        "data2=data.iloc[:7000,:]\n",
        "data=data2\n",
        "len(data)\n"
      ],
      "metadata": {
        "colab": {
          "base_uri": "https://localhost:8080/"
        },
        "id": "uGqRRWiGxJsb",
        "outputId": "a6b601e1-639c-467f-e0be-682c54bde488"
      },
      "execution_count": 5,
      "outputs": [
        {
          "output_type": "execute_result",
          "data": {
            "text/plain": [
              "5000"
            ]
          },
          "metadata": {},
          "execution_count": 5
        }
      ]
    },
    {
      "cell_type": "markdown",
      "source": [
        "Removing all duplicate and NA records"
      ],
      "metadata": {
        "id": "EbYf0PJIy_Bx"
      }
    },
    {
      "cell_type": "code",
      "source": [
        "data.drop_duplicates(subset = ['Text'], inplace = True)\n",
        "data.dropna(axis = 0, inplace = True)"
      ],
      "metadata": {
        "id": "DhGs8pfJy6Wr"
      },
      "execution_count": 6,
      "outputs": []
    },
    {
      "cell_type": "markdown",
      "source": [
        "Function for cleaning the text data"
      ],
      "metadata": {
        "id": "N_6tbiurzE7K"
      }
    },
    {
      "cell_type": "code",
      "source": [
        "def cleaner(text, remove_stopwords=True):\n",
        "  \"\"\"removes url's, nltk's stopwords and anything which is not an alphabet\"\"\"\n",
        "  \n",
        "  stop_words = set(stopwords.words('english'))\n",
        "  text = re.sub(r'^https?:\\/\\/.*[\\r\\n]*', '', text.lower(), flags=re.MULTILINE)\n",
        "  text = re.sub(r'[^a-zA-Z]', ' ', text)\n",
        "  text = contractions.fix(text, slang=False)\n",
        "  if remove_stopwords:\n",
        "    text = ' '.join([word for word in text.split() if word not in stop_words]).strip()\n",
        "  return text"
      ],
      "metadata": {
        "id": "NB92WGrazCi5"
      },
      "execution_count": 7,
      "outputs": []
    },
    {
      "cell_type": "code",
      "source": [
        "!pip install contractions"
      ],
      "metadata": {
        "colab": {
          "base_uri": "https://localhost:8080/"
        },
        "id": "IBqF90NjzIr0",
        "outputId": "9b0532f6-c1e8-4be9-ae15-0ee1858d6829"
      },
      "execution_count": 8,
      "outputs": [
        {
          "output_type": "stream",
          "name": "stdout",
          "text": [
            "Looking in indexes: https://pypi.org/simple, https://us-python.pkg.dev/colab-wheels/public/simple/\n",
            "Collecting contractions\n",
            "  Downloading contractions-0.1.72-py2.py3-none-any.whl (8.3 kB)\n",
            "Collecting textsearch>=0.0.21\n",
            "  Downloading textsearch-0.0.21-py2.py3-none-any.whl (7.5 kB)\n",
            "Collecting anyascii\n",
            "  Downloading anyascii-0.3.1-py3-none-any.whl (287 kB)\n",
            "\u001b[K     |████████████████████████████████| 287 kB 39.7 MB/s \n",
            "\u001b[?25hCollecting pyahocorasick\n",
            "  Downloading pyahocorasick-1.4.4-cp37-cp37m-manylinux_2_17_x86_64.manylinux2014_x86_64.whl (106 kB)\n",
            "\u001b[K     |████████████████████████████████| 106 kB 72.0 MB/s \n",
            "\u001b[?25hInstalling collected packages: pyahocorasick, anyascii, textsearch, contractions\n",
            "Successfully installed anyascii-0.3.1 contractions-0.1.72 pyahocorasick-1.4.4 textsearch-0.0.21\n"
          ]
        }
      ]
    },
    {
      "cell_type": "code",
      "source": [
        "import contractions\n",
        "from time import time\n",
        "from math import ceil\n",
        "\n",
        "t1 = time()\n",
        "cleaned_text = []\n",
        "for t in data['Text']:\n",
        "    cleaned_text.append(cleaner(t))\n",
        "\n",
        "t2 = time()\n",
        "cleaned_summary = []\n",
        "for t in data['Summary']:\n",
        "    cleaned_summary.append(cleaner(t, remove_stopwords = False))\n",
        "\n",
        "t3 = time()\n",
        "print('Text cleaned in {} sec, and Summary in {} sec'.format(ceil(t2-t1), ceil(t3-t2)))\n",
        "\n",
        "data = pd.DataFrame({\n",
        "    'text'    :   cleaned_text,\n",
        "    'summary' :   cleaned_summary})\n",
        "\n",
        "data.replace('', np.nan, inplace = True)\n",
        "data.dropna(axis = 0, inplace = True)"
      ],
      "metadata": {
        "colab": {
          "base_uri": "https://localhost:8080/"
        },
        "id": "SnXe4elTzJPc",
        "outputId": "dc56591e-efee-46c5-902a-a2ff54a93ac6"
      },
      "execution_count": 9,
      "outputs": [
        {
          "output_type": "stream",
          "name": "stdout",
          "text": [
            "Text cleaned in 1 sec, and Summary in 1 sec\n"
          ]
        }
      ]
    },
    {
      "cell_type": "code",
      "source": [
        "data.reset_index(inplace=True, drop=True)"
      ],
      "metadata": {
        "id": "dY_8lc8dzTBS"
      },
      "execution_count": 10,
      "outputs": []
    },
    {
      "cell_type": "markdown",
      "source": [
        "Looking at the number of words in the records"
      ],
      "metadata": {
        "id": "1upzLuRtzWZd"
      }
    },
    {
      "cell_type": "code",
      "source": [
        "text_word_count    = []\n",
        "summary_word_count = []\n",
        "\n",
        "for i in data['text']:\n",
        "      text_word_count.append(len(i.split()))\n",
        "\n",
        "for i in data['summary']:\n",
        "      summary_word_count.append(len(i.split()))\n",
        "\n",
        "visualize = pd.DataFrame({'text':text_word_count, 'summary':summary_word_count})\n",
        "visualize.hist(bins = 50)\n",
        "plt.rcParams['figure.figsize'] = (10, 10)\n",
        "plt.show()"
      ],
      "metadata": {
        "colab": {
          "base_uri": "https://localhost:8080/",
          "height": 281
        },
        "id": "Xzf0-rU2zV48",
        "outputId": "d89d0e7c-edba-4327-9bd9-6ebe5e1829a1"
      },
      "execution_count": 11,
      "outputs": [
        {
          "output_type": "display_data",
          "data": {
            "text/plain": [
              "<Figure size 432x288 with 2 Axes>"
            ],
            "image/png": "[encoded data removed]"
          },
          "metadata": {
            "needs_background": "light"
          }
        }
      ]
    },
    {
      "cell_type": "code",
      "source": [
        "cnt = 0\n",
        "for i in range(data.shape[0]):\n",
        "  if len(data['text'][i].split()) <= 60 and len(data['summary'][i].split()) <= 10:\n",
        "    cnt += 1\n",
        "print(cnt)"
      ],
      "metadata": {
        "colab": {
          "base_uri": "https://localhost:8080/"
        },
        "id": "BpckJu-pzdJ5",
        "outputId": "74f0a941-8fee-4813-e0db-2c1e70289fd1"
      },
      "execution_count": 12,
      "outputs": [
        {
          "output_type": "stream",
          "name": "stdout",
          "text": [
            "4132\n"
          ]
        }
      ]
    },
    {
      "cell_type": "code",
      "source": [
        "_MAX_SUMMARY_LEN = 10\n",
        "_MAX_TEXT_LEN    = 60\n",
        "# Declaring the important variables here, which will be used later down the notebook\n",
        "\n",
        "_NROWS           =   100000\n",
        "_TEXT_PADDING    =   'post'\n",
        "_EMBEDDING_DIM   =   500\n",
        "_ENCODER_DIM     =   300\n",
        "_DECODER_DIM     =   600\n",
        "_BATCH_SIZE      =   15\n",
        "_EPOCHS          =   40"
      ],
      "metadata": {
        "id": "cBiTLdU1zkyV"
      },
      "execution_count": 33,
      "outputs": []
    },
    {
      "cell_type": "code",
      "source": [
        "def prepare(dataset):\n",
        "  global _MAX_SUMMARY_LEN, _MAX_TEXT_LEN\n",
        "  newtext    =  []\n",
        "  newsummary =  []\n",
        "  \n",
        "  for i in range(len(dataset['text'])):\n",
        "    if len(dataset['text'][i].split()) <= _MAX_TEXT_LEN and len(dataset['summary'][i].split()) <= _MAX_SUMMARY_LEN:\n",
        "      newtext.append(dataset['text'][i])\n",
        "      newsummary.append(dataset['summary'][i])\n",
        "\n",
        "  dataset = pd.DataFrame({'text'    : newtext,\n",
        "                          'summary' : newsummary})\n",
        "  dataset['summary'] = dataset['summary'].apply(lambda row : 'stok ' + row + ' etok')\n",
        "  dataset.reset_index(drop=True, inplace=True)\n",
        "  return dataset"
      ],
      "metadata": {
        "id": "SGAE5jArzlvO"
      },
      "execution_count": 34,
      "outputs": []
    },
    {
      "cell_type": "code",
      "source": [
        "df = prepare(data)"
      ],
      "metadata": {
        "id": "wZk-Yz41zsEm"
      },
      "execution_count": 35,
      "outputs": []
    },
    {
      "cell_type": "code",
      "source": [
        "df.head()"
      ],
      "metadata": {
        "colab": {
          "base_uri": "https://localhost:8080/",
          "height": 206
        },
        "id": "wBiYQT6Dzufq",
        "outputId": "285f5b59-c148-4fa7-9e19-0c404ba65639"
      },
      "execution_count": 36,
      "outputs": [
        {
          "output_type": "execute_result",
          "data": {
            "text/plain": [
              "                                                text  \\\n",
              "0  bought several vitality canned dog food produc...   \n",
              "1  product arrived labeled jumbo salted peanuts p...   \n",
              "2  confection around centuries light pillowy citr...   \n",
              "3  looking secret ingredient robitussin believe f...   \n",
              "4  great taffy great price wide assortment yummy ...   \n",
              "\n",
              "                           summary  \n",
              "0  stok good quality dog food etok  \n",
              "1      stok not as advertised etok  \n",
              "2  stok  delight  says it all etok  \n",
              "3         stok cough medicine etok  \n",
              "4            stok great taffy etok  "
            ],
            "text/html": [
              "\n",
              "  <div id=\"df-b2cbefde-d4a8-481a-ab0c-2cf0b86d33ef\">\n",
              "    <div class=\"colab-df-container\">\n",
              "      <div>\n",
              "<style scoped>\n",
              "    .dataframe tbody tr th:only-of-type {\n",
              "        vertical-align: middle;\n",
              "    }\n",
              "\n",
              "    .dataframe tbody tr th {\n",
              "        vertical-align: top;\n",
              "    }\n",
              "\n",
              "    .dataframe thead th {\n",
              "        text-align: right;\n",
              "    }\n",
              "</style>\n",
              "<table border=\"1\" class=\"dataframe\">\n",
              "  <thead>\n",
              "    <tr style=\"text-align: right;\">\n",
              "      <th></th>\n",
              "      <th>text</th>\n",
              "      <th>summary</th>\n",
              "    </tr>\n",
              "  </thead>\n",
              "  <tbody>\n",
              "    <tr>\n",
              "      <th>0</th>\n",
              "      <td>bought several vitality canned dog food produc...</td>\n",
              "      <td>stok good quality dog food etok</td>\n",
              "    </tr>\n",
              "    <tr>\n",
              "      <th>1</th>\n",
              "      <td>product arrived labeled jumbo salted peanuts p...</td>\n",
              "      <td>stok not as advertised etok</td>\n",
              "    </tr>\n",
              "    <tr>\n",
              "      <th>2</th>\n",
              "      <td>confection around centuries light pillowy citr...</td>\n",
              "      <td>stok  delight  says it all etok</td>\n",
              "    </tr>\n",
              "    <tr>\n",
              "      <th>3</th>\n",
              "      <td>looking secret ingredient robitussin believe f...</td>\n",
              "      <td>stok cough medicine etok</td>\n",
              "    </tr>\n",
              "    <tr>\n",
              "      <th>4</th>\n",
              "      <td>great taffy great price wide assortment yummy ...</td>\n",
              "      <td>stok great taffy etok</td>\n",
              "    </tr>\n",
              "  </tbody>\n",
              "</table>\n",
              "</div>\n",
              "      <button class=\"colab-df-convert\" onclick=\"convertToInteractive('df-b2cbefde-d4a8-481a-ab0c-2cf0b86d33ef')\"\n",
              "              title=\"Convert this dataframe to an interactive table.\"\n",
              "              style=\"display:none;\">\n",
              "        \n",
              "  <svg xmlns=\"http://www.w3.org/2000/svg\" height=\"24px\"viewBox=\"0 0 24 24\"\n",
              "       width=\"24px\">\n",
              "    <path d=\"M0 0h24v24H0V0z\" fill=\"none\"/>\n",
              "    <path d=\"M18.56 5.44l.94 2.06.94-2.06 2.06-.94-2.06-.94-.94-2.06-.94 2.06-2.06.94zm-11 1L8.5 8.5l.94-2.06 2.06-.94-2.06-.94L8.5 2.5l-.94 2.06-2.06.94zm10 10l.94 2.06.94-2.06 2.06-.94-2.06-.94-.94-2.06-.94 2.06-2.06.94z\"/><path d=\"M17.41 7.96l-1.37-1.37c-.4-.4-.92-.59-1.43-.59-.52 0-1.04.2-1.43.59L10.3 9.45l-7.72 7.72c-.78.78-.78 2.05 0 2.83L4 21.41c.39.39.9.59 1.41.59.51 0 1.02-.2 1.41-.59l7.78-7.78 2.81-2.81c.8-.78.8-2.07 0-2.86zM5.41 20L4 18.59l7.72-7.72 1.47 1.35L5.41 20z\"/>\n",
              "  </svg>\n",
              "      </button>\n",
              "      \n",
              "  <style>\n",
              "    .colab-df-container {\n",
              "      display:flex;\n",
              "      flex-wrap:wrap;\n",
              "      gap: 12px;\n",
              "    }\n",
              "\n",
              "    .colab-df-convert {\n",
              "      background-color: #E8F0FE;\n",
              "      border: none;\n",
              "      border-radius: 50%;\n",
              "      cursor: pointer;\n",
              "      display: none;\n",
              "      fill: #1967D2;\n",
              "      height: 32px;\n",
              "      padding: 0 0 0 0;\n",
              "      width: 32px;\n",
              "    }\n",
              "\n",
              "    .colab-df-convert:hover {\n",
              "      background-color: #E2EBFA;\n",
              "      box-shadow: 0px 1px 2px rgba(60, 64, 67, 0.3), 0px 1px 3px 1px rgba(60, 64, 67, 0.15);\n",
              "      fill: #174EA6;\n",
              "    }\n",
              "\n",
              "    [theme=dark] .colab-df-convert {\n",
              "      background-color: #3B4455;\n",
              "      fill: #D2E3FC;\n",
              "    }\n",
              "\n",
              "    [theme=dark] .colab-df-convert:hover {\n",
              "      background-color: #434B5C;\n",
              "      box-shadow: 0px 1px 3px 1px rgba(0, 0, 0, 0.15);\n",
              "      filter: drop-shadow(0px 1px 2px rgba(0, 0, 0, 0.3));\n",
              "      fill: #FFFFFF;\n",
              "    }\n",
              "  </style>\n",
              "\n",
              "      <script>\n",
              "        const buttonEl =\n",
              "          document.querySelector('#df-b2cbefde-d4a8-481a-ab0c-2cf0b86d33ef button.colab-df-convert');\n",
              "        buttonEl.style.display =\n",
              "          google.colab.kernel.accessAllowed ? 'block' : 'none';\n",
              "\n",
              "        async function convertToInteractive(key) {\n",
              "          const element = document.querySelector('#df-b2cbefde-d4a8-481a-ab0c-2cf0b86d33ef');\n",
              "          const dataTable =\n",
              "            await google.colab.kernel.invokeFunction('convertToInteractive',\n",
              "                                                     [key], {});\n",
              "          if (!dataTable) return;\n",
              "\n",
              "          const docLinkHtml = 'Like what you see? Visit the ' +\n",
              "            '<a target=\"_blank\" href=https://colab.research.google.com/notebooks/data_table.ipynb>data table notebook</a>'\n",
              "            + ' to learn more about interactive tables.';\n",
              "          element.innerHTML = '';\n",
              "          dataTable['output_type'] = 'display_data';\n",
              "          await google.colab.output.renderOutput(dataTable, element);\n",
              "          const docLink = document.createElement('div');\n",
              "          docLink.innerHTML = docLinkHtml;\n",
              "          element.appendChild(docLink);\n",
              "        }\n",
              "      </script>\n",
              "    </div>\n",
              "  </div>\n",
              "  "
            ]
          },
          "metadata": {},
          "execution_count": 36
        }
      ]
    },
    {
      "cell_type": "code",
      "source": [
        "x_tr, x_val, y_tr, y_val = train_test_split(np.array(df['text']), np.array(df['summary']),\n",
        "                                       test_size=0.1, random_state=42)"
      ],
      "metadata": {
        "id": "x746VvgVzyBs"
      },
      "execution_count": 37,
      "outputs": []
    },
    {
      "cell_type": "code",
      "source": [
        "# preparing 'text' for model training and validation\n",
        "tok_x  = Tokenizer()\n",
        "tok_x.fit_on_texts(list(x_tr))\n",
        "x_tr    =  pad_sequences(tok_x.texts_to_sequences(x_tr),  maxlen=_MAX_TEXT_LEN, padding=_TEXT_PADDING)\n",
        "x_val   =  pad_sequences(tok_x.texts_to_sequences(x_val), maxlen=_MAX_TEXT_LEN, padding=_TEXT_PADDING)\n",
        "vocab_x =  len(tok_x.word_counts) + 1"
      ],
      "metadata": {
        "id": "vpqA0z4pzy0n"
      },
      "execution_count": 38,
      "outputs": []
    },
    {
      "cell_type": "code",
      "source": [
        "vocab_x"
      ],
      "metadata": {
        "colab": {
          "base_uri": "https://localhost:8080/"
        },
        "id": "iWuzeq22z2Sm",
        "outputId": "da4cc5ad-bcd4-4694-af0f-5ac9bf1126ca"
      },
      "execution_count": 39,
      "outputs": [
        {
          "output_type": "execute_result",
          "data": {
            "text/plain": [
              "8858"
            ]
          },
          "metadata": {},
          "execution_count": 39
        }
      ]
    },
    {
      "cell_type": "code",
      "source": [
        "# preparing 'summary' for model training and validation\n",
        "tok_y  = Tokenizer()\n",
        "tok_y.fit_on_texts(list(y_tr))\n",
        "y_tr    =  pad_sequences(tok_y.texts_to_sequences(y_tr),  maxlen=_MAX_TEXT_LEN, padding=_TEXT_PADDING)\n",
        "y_val   =  pad_sequences(tok_y.texts_to_sequences(y_val), maxlen=_MAX_TEXT_LEN, padding=_TEXT_PADDING)\n",
        "vocab_y =  len(tok_y.word_counts) + 1"
      ],
      "metadata": {
        "id": "xtRzpPvnz38q"
      },
      "execution_count": 40,
      "outputs": []
    },
    {
      "cell_type": "code",
      "source": [
        "vocab_y"
      ],
      "metadata": {
        "colab": {
          "base_uri": "https://localhost:8080/"
        },
        "id": "5h4BpBGwz5jw",
        "outputId": "ad3d5670-a1d5-4637-9bb4-fed7a2fff80a"
      },
      "execution_count": 41,
      "outputs": [
        {
          "output_type": "execute_result",
          "data": {
            "text/plain": [
              "2419"
            ]
          },
          "metadata": {},
          "execution_count": 41
        }
      ]
    },
    {
      "cell_type": "code",
      "source": [
        "tok_y.word_counts['stok'], len(y_tr)"
      ],
      "metadata": {
        "colab": {
          "base_uri": "https://localhost:8080/"
        },
        "id": "AvlINij10JYn",
        "outputId": "5f49ce81-d654-4757-d76d-6cfddd905d2c"
      },
      "execution_count": 42,
      "outputs": [
        {
          "output_type": "execute_result",
          "data": {
            "text/plain": [
              "(3718, 3718)"
            ]
          },
          "metadata": {},
          "execution_count": 42
        }
      ]
    },
    {
      "cell_type": "code",
      "source": [
        "index_to_word_text    =  tok_x.index_word\n",
        "index_to_word_summary =  tok_y.index_word\n",
        "word_to_index_summary =  tok_y.word_index"
      ],
      "metadata": {
        "id": "wKKTnbyH0NXg"
      },
      "execution_count": 43,
      "outputs": []
    },
    {
      "cell_type": "code",
      "source": [
        "# Encoder\n",
        "encoder_input  =  Input(shape=(_MAX_TEXT_LEN,), name='Encoder_input')\n",
        "encoder_embed  =  Embedding(vocab_x, _EMBEDDING_DIM, trainable=True, name='Encoder_embedding')(encoder_input)\n",
        "encoder        =  Bidirectional(LSTM(_ENCODER_DIM, \n",
        "                                     return_sequences=True,\n",
        "                                     return_state=True,\n",
        "                                     dropout=0.4, recurrent_dropout=0.4), name='Encoder_layer')\n",
        "encoder_output, forward_h, forward_c, backward_h, backward_c = encoder(encoder_embed)\n",
        "state_h        =  Concatenate()([forward_h, backward_h])\n",
        "state_c        =  Concatenate()([forward_c, backward_c])\n",
        "\n",
        "# Decoder\n",
        "decoder_input        =  Input(shape=(None,), name='Decoder_input')\n",
        "decoder_embed_layer  =  Embedding(vocab_y, _EMBEDDING_DIM, trainable=True, name='Decoder_embedding')\n",
        "decoder_embed        =  decoder_embed_layer(decoder_input)\n",
        "decoder              =  LSTM(_DECODER_DIM,\n",
        "                             return_sequences=True,\n",
        "                             return_state=True,\n",
        "                             dropout=0.4, recurrent_dropout=0.3, name='Decoder_layer')\n",
        "decoder_output, decoder_state_h, decoder_state_c = decoder(decoder_embed,initial_state=[state_h, state_c])\n",
        "\n",
        "# Attention layer\n",
        "attention_layer =  Attention(name='Attention_layer')\n",
        "attention_out   =  attention_layer([decoder_output, encoder_output])\n",
        "\n",
        "# Concat attention layer's output and decoder's output\n",
        "concat_layer    =  Concatenate(axis=-1, name='Concat_layer')([decoder_output, attention_out])\n",
        "\n",
        "# Dense layer\n",
        "decoder_dense   =  TimeDistributed(Dense(vocab_y, activation='softmax'))\n",
        "decoder_output  =  decoder_dense(concat_layer)\n",
        "\n",
        "# Model \n",
        "model           =  Model([encoder_input, decoder_input], decoder_output, name='Model')\n",
        "\n",
        "model.summary()"
      ],
      "metadata": {
        "colab": {
          "base_uri": "https://localhost:8080/"
        },
        "id": "XWlDYKXr0RZ6",
        "outputId": "f6f7389f-8013-4c95-95d4-6dd8ec1150d7"
      },
      "execution_count": 44,
      "outputs": [
        {
          "output_type": "stream",
          "name": "stdout",
          "text": [
            "WARNING:tensorflow:Layer lstm_1 will not use cuDNN kernels since it doesn't meet the criteria. It will use a generic GPU kernel as fallback when running on GPU.\n",
            "WARNING:tensorflow:Layer lstm_1 will not use cuDNN kernels since it doesn't meet the criteria. It will use a generic GPU kernel as fallback when running on GPU.\n",
            "WARNING:tensorflow:Layer lstm_1 will not use cuDNN kernels since it doesn't meet the criteria. It will use a generic GPU kernel as fallback when running on GPU.\n",
            "WARNING:tensorflow:Layer Decoder_layer will not use cuDNN kernels since it doesn't meet the criteria. It will use a generic GPU kernel as fallback when running on GPU.\n",
            "Model: \"Model\"\n",
            "__________________________________________________________________________________________________\n",
            " Layer (type)                   Output Shape         Param #     Connected to                     \n",
            "==================================================================================================\n",
            " Encoder_input (InputLayer)     [(None, 60)]         0           []                               \n",
            "                                                                                                  \n",
            " Encoder_embedding (Embedding)  (None, 60, 500)      4429000     ['Encoder_input[0][0]']          \n",
            "                                                                                                  \n",
            " Decoder_input (InputLayer)     [(None, None)]       0           []                               \n",
            "                                                                                                  \n",
            " Encoder_layer (Bidirectional)  [(None, 60, 600),    1922400     ['Encoder_embedding[0][0]']      \n",
            "                                 (None, 300),                                                     \n",
            "                                 (None, 300),                                                     \n",
            "                                 (None, 300),                                                     \n",
            "                                 (None, 300)]                                                     \n",
            "                                                                                                  \n",
            " Decoder_embedding (Embedding)  (None, None, 500)    1209500     ['Decoder_input[0][0]']          \n",
            "                                                                                                  \n",
            " concatenate_3 (Concatenate)    (None, 600)          0           ['Encoder_layer[0][1]',          \n",
            "                                                                  'Encoder_layer[0][3]']          \n",
            "                                                                                                  \n",
            " concatenate_4 (Concatenate)    (None, 600)          0           ['Encoder_layer[0][2]',          \n",
            "                                                                  'Encoder_layer[0][4]']          \n",
            "                                                                                                  \n",
            " Decoder_layer (LSTM)           [(None, None, 600),  2642400     ['Decoder_embedding[0][0]',      \n",
            "                                 (None, 600),                     'concatenate_3[0][0]',          \n",
            "                                 (None, 600)]                     'concatenate_4[0][0]']          \n",
            "                                                                                                  \n",
            " Attention_layer (Attention)    (None, None, 600)    0           ['Decoder_layer[0][0]',          \n",
            "                                                                  'Encoder_layer[0][0]']          \n",
            "                                                                                                  \n",
            " Concat_layer (Concatenate)     (None, None, 1200)   0           ['Decoder_layer[0][0]',          \n",
            "                                                                  'Attention_layer[0][0]']        \n",
            "                                                                                                  \n",
            " time_distributed_1 (TimeDistri  (None, None, 2419)  2905219     ['Concat_layer[0][0]']           \n",
            " buted)                                                                                           \n",
            "                                                                                                  \n",
            "==================================================================================================\n",
            "Total params: 13,108,519\n",
            "Trainable params: 13,108,519\n",
            "Non-trainable params: 0\n",
            "__________________________________________________________________________________________________\n"
          ]
        }
      ]
    },
    {
      "cell_type": "code",
      "source": [
        "model.compile(optimizer='adam', loss='sparse_categorical_crossentropy')\n",
        "\n",
        "stopearly =  EarlyStopping(monitor='val_loss', mode='min', verbose=1, patience=2)\n",
        "X         =  [x_tr,y_tr[:,:-1]]\n",
        "y         =  y_tr.reshape(y_tr.shape[0], y_tr.shape[1], 1)[:,1:] \n",
        "VAL_X     =  [x_val,y_val[:,:-1]]\n",
        "VAL_y     =  y_val.reshape(y_val.shape[0], y_val.shape[1], 1)[:,1:]\n",
        "history   =  model.fit(X, y, epochs=10, callbacks=[stopearly], batch_size=_BATCH_SIZE, validation_data=(VAL_X, VAL_y))"
      ],
      "metadata": {
        "colab": {
          "base_uri": "https://localhost:8080/"
        },
        "id": "24GPRJ0r0WgC",
        "outputId": "42201bcc-7e9d-4284-a403-d5673604f2c6"
      },
      "execution_count": 45,
      "outputs": [
        {
          "output_type": "stream",
          "name": "stdout",
          "text": [
            "Epoch 1/10\n",
            "248/248 [==============================] - 186s 724ms/step - loss: 0.5727 - val_loss: 0.3771\n",
            "Epoch 2/10\n",
            "248/248 [==============================] - 178s 717ms/step - loss: 0.4104 - val_loss: 0.3649\n",
            "Epoch 3/10\n",
            "248/248 [==============================] - 177s 716ms/step - loss: 0.3925 - val_loss: 0.3653\n",
            "Epoch 4/10\n",
            "248/248 [==============================] - 177s 712ms/step - loss: 0.3701 - val_loss: 0.3585\n",
            "Epoch 5/10\n",
            "248/248 [==============================] - 177s 713ms/step - loss: 0.3435 - val_loss: 0.3558\n",
            "Epoch 6/10\n",
            "248/248 [==============================] - 176s 709ms/step - loss: 0.3154 - val_loss: 0.3546\n",
            "Epoch 7/10\n",
            "248/248 [==============================] - 178s 720ms/step - loss: 0.2845 - val_loss: 0.3593\n",
            "Epoch 8/10\n",
            "248/248 [==============================] - 174s 704ms/step - loss: 0.2494 - val_loss: 0.3677\n",
            "Epoch 8: early stopping\n"
          ]
        }
      ]
    },
    {
      "cell_type": "code",
      "source": [
        "plt.plot(history.history['loss'])\n",
        "plt.plot(history.history['val_loss'])\n",
        "plt.title('model loss')\n",
        "plt.xlabel('no. of epochs')\n",
        "plt.ylabel('loss')\n",
        "plt.legend(['train', 'validate'], loc='upper right')\n",
        "plt.show()"
      ],
      "metadata": {
        "colab": {
          "base_uri": "https://localhost:8080/",
          "height": 621
        },
        "id": "pkB6z4ds4NlP",
        "outputId": "c08c4e77-a0b5-4596-8425-0de74a0e5227"
      },
      "execution_count": 51,
      "outputs": [
        {
          "output_type": "display_data",
          "data": {
            "text/plain": [
              "<Figure size 720x720 with 1 Axes>"
            ],
            "image/png": "[encoded data removed]"
          },
          "metadata": {
            "needs_background": "light"
          }
        }
      ]
    },
    {
      "cell_type": "code",
      "source": [
        "encoder_model = Model(inputs  = encoder_input,\n",
        "                outputs = [encoder_output, state_h, state_c])\n",
        "\n",
        "# For storing decoder's previous states which will act as our encoder here\n",
        "decoder_previous_state_h = Input(shape=(_DECODER_DIM,))\n",
        "decoder_previous_state_c = Input(shape=(_DECODER_DIM,))\n",
        "decoder_previous_output  = Input(shape=(_MAX_TEXT_LEN, _DECODER_DIM))\n",
        "\n",
        "# This new decoder will take the 'previous decoder' i.e, our encoder's output\n",
        "decoder_embed_new = decoder_embed_layer(decoder_input)\n",
        "decoder_output_new, state_h_new, state_c_new = decoder(decoder_embed_new,\n",
        "                                                       initial_state = [decoder_previous_state_h, decoder_previous_state_c])\n",
        "\n",
        "# Attention layer & concat layer for the new decoder and encoder\n",
        "attention_out_new    =  attention_layer([decoder_output_new, decoder_previous_output])\n",
        "concat_layer_final   =  Concatenate(axis=-1)([decoder_output_new, attention_out_new])\n",
        "\n",
        "# A dense softmax layer to generate prob dist. over the target vocabulary\n",
        "decoder_output_final =  decoder_dense(concat_layer_final)\n",
        "\n",
        "# Final decoder model\n",
        "decoder_model = Model(\n",
        "    [decoder_input] + [decoder_previous_output, decoder_previous_state_h, decoder_previous_state_c],\n",
        "    [decoder_output_final] + [state_h_new, state_c_new])"
      ],
      "metadata": {
        "id": "p6YISfNgsQMu"
      },
      "execution_count": 46,
      "outputs": []
    },
    {
      "cell_type": "code",
      "source": [
        "def summarizer(input_seq):\n",
        "    encoder_out, encoder_h, encoder_c = encoder_model.predict(input_seq)\n",
        "    target_seq = np.zeros((1,1))\n",
        "    target_seq[0, 0] = word_to_index_summary['stok']\n",
        "    stop_condition = False\n",
        "    decoded_sentence = ''\n",
        "\n",
        "    while not stop_condition:\n",
        "        output_tokens, h, c = decoder_model.predict([target_seq] + [encoder_out, encoder_h, encoder_c])\n",
        "        # Greedy decoder\n",
        "        sampled_token_index = np.argmax(output_tokens[0, -1, :])\n",
        "        sampled_token = index_to_word_summary[sampled_token_index]\n",
        "        \n",
        "        if sampled_token != 'etok':\n",
        "            decoded_sentence += sampled_token + ' '\n",
        "\n",
        "        if sampled_token == 'etok' or len(decoded_sentence.split()) >= (_MAX_SUMMARY_LEN-1):\n",
        "            stop_condition = True\n",
        "\n",
        "        target_seq = np.zeros((1,1))\n",
        "        target_seq[0, 0] = sampled_token_index\n",
        "\n",
        "        encoder_h, encoder_c = h, c\n",
        "\n",
        "    return decoded_sentence"
      ],
      "metadata": {
        "id": "4RPYMJFzsWO6"
      },
      "execution_count": 47,
      "outputs": []
    },
    {
      "cell_type": "code",
      "source": [
        "def sequence_to_summary(input_seq):\n",
        "    s = ''\n",
        "    for i in input_seq:\n",
        "        if i != 0 and i != word_to_index_summary['stok'] and i != word_to_index_summary['etok']:\n",
        "            s += index_to_word_summary[i] + ' '\n",
        "    return s\n",
        "\n",
        "def sequence_to_text(input_seq):\n",
        "    s = ''\n",
        "    for i in input_seq:\n",
        "        if i != 0:\n",
        "            s += index_to_word_text[i] + ' '\n",
        "    return s"
      ],
      "metadata": {
        "id": "E3fWG98AsXyj"
      },
      "execution_count": 48,
      "outputs": []
    },
    {
      "cell_type": "code",
      "source": [
        "for i in range(5):\n",
        "    print(\"Review:\",sequence_to_text(x_tr[i]))\n",
        "    print(\"Original summary:\",sequence_to_summary(y_tr[i]))\n",
        "    print(\"Predicted summary:\",summarizer(x_tr[i].reshape(1,_MAX_TEXT_LEN)))\n",
        "    print(\"\\n\")"
      ],
      "metadata": {
        "colab": {
          "base_uri": "https://localhost:8080/"
        },
        "id": "4UOP8VK5sbSh",
        "outputId": "f56422e2-5c6a-4ebb-9981-a0fb8450a34c"
      },
      "execution_count": 49,
      "outputs": [
        {
          "output_type": "stream",
          "name": "stdout",
          "text": [
            "Review: coffee really bold opinion falls along medium roast flavor decent smooth coffee think really bold like k cups though seriously overpriced \n",
            "Original summary: good coffee \n",
            "Predicted summary: good coffee \n",
            "\n",
            "\n",
            "Review: used pioneer gravy number years easy make tastes great also goes well mashed potatoes meats etc try \n",
            "Original summary: pioneer gravy is great \n",
            "Predicted summary: delicious \n",
            "\n",
            "\n",
            "Review: flaxseed great way get fiber diet brand delivers mild taste put tablespoons morning smoothie gives daily fiber required intake flaxseed also contain omega also place powerhouse nutrients diet little seed br br excellent source protein fiber minerals magnesium copper go wrong \n",
            "Original summary: fiber packed and nutrient rich \n",
            "Predicted summary: fiber perfection \n",
            "\n",
            "\n",
            "Review: besides smaller runts look consistency unfortunately taste nothing like banana runts even taste good yucky stuff trying return vendor \n",
            "Original summary: not banana runts \n",
            "Predicted summary: not bad \n",
            "\n",
            "\n",
            "Review: trying get sugar product great sweet taste without spiking insulin bitter aftertaste great diabetics anyone trying eat healthy love product \n",
            "Original summary: great product no bitter taste won t spike your insulin \n",
            "Predicted summary: great product \n",
            "\n",
            "\n"
          ]
        }
      ]
    },
    {
      "cell_type": "code",
      "source": [
        "for i in range(5):\n",
        "    print(\"Review:\",sequence_to_text(x_val[i]))\n",
        "    print(\"Original summary:\",sequence_to_summary(y_val[i]))\n",
        "    print(\"Predicted summary:\",summarizer(x_val[i].reshape(1,_MAX_TEXT_LEN)))\n",
        "    print(\"\\n\")"
      ],
      "metadata": {
        "colab": {
          "base_uri": "https://localhost:8080/"
        },
        "id": "4cto0iePuYW3",
        "outputId": "7acf4ae9-fc9c-49c1-bf85-50042e6b7282"
      },
      "execution_count": 50,
      "outputs": [
        {
          "output_type": "stream",
          "name": "stdout",
          "text": [
            "Review: good price product started baby similac soy formula much son tummy formula change unfortunately came funky time similac big recall larger containers buying oz wholesale store smaller containers sold local stores fun situation finding pack reasonable price much needed appreciated rescue \n",
            "Original summary: sensitive \n",
            "Predicted summary: i like this \n",
            "\n",
            "\n",
            "Review: sure product chicken rice really sure chicken rice mostly gravy still like \n",
            "Original summary: chicken and rice \n",
            "Predicted summary: not as the picture \n",
            "\n",
            "\n",
            "Review: sweetarts memories going candy store sweet sour chalky taste classic candy hard candy easily chewable pleasant texture taste really go wrong candy drawback hard stop one know eaten entire roll \n",
            "Original summary: classic candy \n",
            "Predicted summary: not sure \n",
            "\n",
            "\n",
            "Review: rice crackers truly delicious w cheese peanut butter also eat crackers w gluten allergic wheat eggs gluten br favorite snack sunday nights come promptly save money thank j wolf \n",
            "Original summary: crispy crackers w o gluten \n",
            "Predicted summary: great taste \n",
            "\n",
            "\n",
            "Review: flavor old beer nuts almost entirely gone beer nuts plain spanish peanuts slight flavor hardly noticeable extremely disappointing \n",
            "Original summary: the flavor is gone \n",
            "Predicted summary: damaged in the msg \n",
            "\n",
            "\n"
          ]
        }
      ]
    },
    {
      "cell_type": "code",
      "source": [
        "def tryit(sent):\n",
        "  \"\"\"wrapper function to test the model\"\"\"\n",
        "\n",
        "  sent = cleaner(sent, remove_stopwords=True)\n",
        "  if len(sent.split()) > _MAX_TEXT_LEN:\n",
        "    return \"make your sentence length less than {} words\".format(_MAX_TEXT_LEN)\n",
        "\n",
        "  seq = tok_x.texts_to_sequences(sent.split())\n",
        "  seq = [[item for sublist in seq for item in sublist]]\n",
        "  seq = pad_sequences(seq, maxlen=_MAX_TEXT_LEN, padding=_TEXT_PADDING)\n",
        "  return summarizer(seq.reshape(1,_MAX_TEXT_LEN))"
      ],
      "metadata": {
        "id": "FhLzESDE59aH"
      },
      "execution_count": 60,
      "outputs": []
    },
    {
      "cell_type": "code",
      "source": [
        "text = 'We tried the Megna for the first time last night and the food was great, freshly cooked very tasty and well presented. \\\n",
        "The waiters were attentive and service overall was good. The restaurant looked to have been recently decorated. \\\n",
        "Overall a good meal and great value we will certainly be going back.'"
      ],
      "metadata": {
        "id": "IHeAbfiC6B0c"
      },
      "execution_count": 69,
      "outputs": []
    },
    {
      "cell_type": "code",
      "source": [
        "tryit(text)"
      ],
      "metadata": {
        "colab": {
          "base_uri": "https://localhost:8080/",
          "height": 36
        },
        "id": "O9RNT4Uo6GwV",
        "outputId": "f8c0252f-9487-43fc-8dc6-7c090be9f07f"
      },
      "execution_count": 70,
      "outputs": [
        {
          "output_type": "execute_result",
          "data": {
            "text/plain": [
              "'great for the price '"
            ],
            "application/vnd.google.colaboratory.intrinsic+json": {
              "type": "string"
            }
          },
          "metadata": {},
          "execution_count": 70
        }
      ]
    },
    {
      "cell_type": "markdown",
      "source": [
        "So we can see that even for a custom review that i picked out of a random restaurants page, our model gives us a pretty decent output summary and hence we can say we were succesful in making an abstractive text summarizer"
      ],
      "metadata": {
        "id": "8ATJ5z426bFK"
      }
    }
  ]
}